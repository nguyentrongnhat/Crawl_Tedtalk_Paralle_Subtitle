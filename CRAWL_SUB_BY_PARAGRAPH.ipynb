{
 "cells": [
  {
   "cell_type": "code",
   "execution_count": 58,
   "id": "8be770fc",
   "metadata": {},
   "outputs": [],
   "source": [
    "import pandas as pd\n",
    "from bs4 import BeautifulSoup\n",
    "import urllib\n",
    "import codecs\n",
    "import os, glob\n",
    "import time"
   ]
  },
  {
   "cell_type": "code",
   "execution_count": 59,
   "id": "767702eb",
   "metadata": {},
   "outputs": [],
   "source": [
    "# Chia theo đoạn\n",
    "def get_sub_by_para(path):\n",
    "    r = urllib.request.urlopen(path);\n",
    "    soup = BeautifulSoup(r.read(), \"lxml\");\n",
    "    r.close()\n",
    "    time.sleep(5)\n",
    "    span_include_sub = soup.find_all('div', {'class': ['Grid__cell', 'flx-s:1', 'p-r:4']})\n",
    "    #print(span_include_sub)\n",
    "    group = []\n",
    "    sub_array_object = []\n",
    "    for i in span_include_sub:\n",
    "        if(i['class'] == ['Grid__cell', 'flx-s:1', 'p-r:4']):\n",
    "            group.append(i.children)\n",
    "\n",
    "    for i in group:\n",
    "        next(i)\n",
    "        sub = next(i)\n",
    "        true_sub = sub.string\n",
    "        #print(true_sub)\n",
    "        #print('===================================================')\n",
    "        sub_array_object.append(true_sub)\n",
    "    #print(len(group))\n",
    "    #print(sub_array_object)\n",
    "    #print('===================================================')\n",
    "    text = ''\n",
    "    final_sub_array =[]\n",
    "    for i in sub_array_object:\n",
    "        for j in range(len(i)):   \n",
    "            if(i[j]!='\\n' and i[j]!='\\t'):\n",
    "                text = text + i[j]\n",
    "            if(i[j] == '\\n'):\n",
    "                text += ' '\n",
    "            if(i[j] == '\\t' and j + 1 > len(i)-1):\n",
    "                final_sub_array.append(text.strip())\n",
    "                text = ''\n",
    "    while ('' in final_sub_array):\n",
    "        final_sub_array.remove('')\n",
    "    while (' ' in final_sub_array):\n",
    "        final_sub_array.remove(' ')\n",
    "    return final_sub_array"
   ]
  },
  {
   "cell_type": "code",
   "execution_count": 60,
   "id": "a09c74f1",
   "metadata": {},
   "outputs": [],
   "source": [
    "# length doc1 > length doc2\n",
    "def flat_paragraph(doc1, doc2):\n",
    "    length1 = 0\n",
    "    length2 = 0\n",
    "    min = 0\n",
    "    max = 0\n",
    "    for i in range(len(doc1)):\n",
    "        length1 = len(doc1[i].split(' '))\n",
    "        length2 = len(doc2[i].split(' '))\n",
    "        print(length1)\n",
    "        print(length2)\n",
    "        min = length1\n",
    "        if(length1 > length2):\n",
    "            min = length2\n",
    "        error = abs(length1-length2)/min\n",
    "        print(error)\n",
    "        if (error > 1):\n",
    "            print(doc1[i])\n",
    "            print(doc2[i])\n",
    "            print('trung error:[[[[[[[[[[[[[[[[[[[[[[]]]]]]]]]]]]]]]]]]]]]]')\n",
    "            if(length1 < length2 and '.' in doc2[i]):\n",
    "                print('vao day')\n",
    "                split_index = doc2[i].index('.')\n",
    "                split_data = doc2[i][split_index + 1:]\n",
    "                doc2[i] = doc2[i][:split_index + 1]\n",
    "                doc2.insert(i + 1, split_data)\n",
    "            if(length1 > length2 and '.' in doc1[i]):\n",
    "                split_index = doc1[i].index('.')\n",
    "                split_data = doc1[i][split_index + 1:]\n",
    "                doc1[i] = doc1[i][:split_index + 1]\n",
    "                doc1.insert(i + 1, split_data)\n",
    "        print('=====================================================================')\n",
    "    return doc1, doc2"
   ]
  },
  {
   "cell_type": "code",
   "execution_count": 67,
   "id": "c5137065",
   "metadata": {},
   "outputs": [],
   "source": [
    "url = 'https://www.ted.com/talks/bono_my_wish_three_actions_for_africa/transcript'"
   ]
  },
  {
   "cell_type": "code",
   "execution_count": 68,
   "id": "2e12289e",
   "metadata": {},
   "outputs": [
    {
     "name": "stdout",
     "output_type": "stream",
     "text": [
      "vietnamese:  6\n",
      "english:  37\n"
     ]
    }
   ],
   "source": [
    "vi = get_sub_by_para(url + '?language=vi')\n",
    "en = get_sub_by_para(url + '?language=en')\n",
    "print('vietnamese: ', len(vi))\n",
    "print('english: ', len(en))"
   ]
  },
  {
   "cell_type": "code",
   "execution_count": 69,
   "id": "f90e10a1",
   "metadata": {},
   "outputs": [
    {
     "name": "stdout",
     "output_type": "stream",
     "text": [
      "127\n",
      "105\n",
      "0.20952380952380953\n",
      "=====================================================================\n",
      "199\n",
      "170\n",
      "0.17058823529411765\n",
      "=====================================================================\n",
      "405\n",
      "175\n",
      "1.3142857142857143\n",
      "Điều tôi muốn thấy là chủ nghĩa lý tưởng được giải phóng khỏi những khuôn khổ. Về chính trị, kinh tế, tâm lý, v.v... Địa chính trị có rất nhiều điều phải học hỏi từ thế giới kĩ thuật số. Bạn vượt qua những chướng ngại tưởng chừng không thể phá vỡ nổi Và đây chính là điều tôi muốn chia sẻ  ngày hôm nay. Dù vậy, đầu tiên tôi nên giải thích  tại sao và bằng cách nào tôi đến được đây. Đó là một cuộc hành trình bắt đầu  từ 20 năm trước Bạn có thể nhớ đến ca khúc  \"We Are the World\" hay \"Do They Know It's Chrismas?\" của nhóm Band Aid trong đêm  âm nhạc Live Aid. Rock star tóc hoa râm cao kều Sir Bob Geldof, một người bạn của tôi, đã thách thức \"nuôi cả thế giới\". Đó là khoảng thời gian tuyệt vời, và đã hoàn toàn thay đổi cuộc sống của tôi. Hè năm đó, tôi đã cùng Ali, vợ tôi, tới Ethiopia. Chúng tôi đi bí mật để tự mình  thấy điều gì đang xảy ra. Chúng tôi sống ở đấy 1 tháng,  làm việc tại một trại trẻ mồ côi. Bọn trẻ đã đặt cho tôi một cái tên. Chúng gọi tôi là \"Cô gái có râu\". (Cười) Đừng hỏi gì nhé. Chúng tôi phát hiện ra châu Phi là một vùng đất nhiệm màu. Những bầu trời bao la, những trái tim  nhân hậu, vùng lục địa tươi sáng. Và cả những con người đẹp đẽ và giàu có. Ở đây, cho đi điều gì sẽ nhận  được nhiều hơn thế. Ethiopia không chỉ khiến tôi bùng nổ, nó còn mở mang đầu óc tôi. Vào ngày cuối cùng ở trại mồ côi, một người đàn ông trao cho tôi một đứa bé và nói, \"Ông có thể mang con tôi đi cùng được không?\" Ông ấy biết, ở Ireland, con ông ấy  sẽ sống, còn ở Ethiopia, thằng bé sẽ chết. Vì lúc đó là giữa nạn đói tồi tệ. Và, tôi đã khiến ông ấy thất vọng. Đó là một cảm giác đau đớn,  tôi đã khiến ông ấy thất vọng. Cảm giác ấy tôi không bao giờ quên. Và vào khoảnh khắc đó, cuộc hành trình của tôi bắt đầu. Lúc ấy, tôi trở thành một kẻ tồi tệ:\n",
      "What I would like to see is idealism decoupled from all constraints. Political, economic, psychological, whatever. The geopolitical world has got a lot to learn from the digital world. From the ease with which you swept away obstacles that no one knew could even be budged. And that's actually what I'd like to talk about today. First, though, I should probably explain why, and how, I got to this place. It's a journey that started 20 years ago. You may remember that song, \"We Are the World,\" or, \"Do They Know It's Christmas?\" Band Aid, Live Aid. Another very tall, grizzled rock star, my friend Sir Bob Geldof, issued a challenge to \"feed the world.\" It was a great moment, and it utterly changed my life. That summer, my wife, Ali, and myself went to Ethiopia. We went on the quiet to see for ourselves what was going on. We lived in Ethiopia for a month, working at an orphanage. The children had a name for me. They called me, \"The girl with the beard.\"\n",
      "trung error:[[[[[[[[[[[[[[[[[[[[[[]]]]]]]]]]]]]]]]]]]]]]\n",
      "=====================================================================\n",
      "390\n",
      "1\n",
      "389.0\n",
      " Về chính trị, kinh tế, tâm lý, v.v... Địa chính trị có rất nhiều điều phải học hỏi từ thế giới kĩ thuật số. Bạn vượt qua những chướng ngại tưởng chừng không thể phá vỡ nổi Và đây chính là điều tôi muốn chia sẻ  ngày hôm nay. Dù vậy, đầu tiên tôi nên giải thích  tại sao và bằng cách nào tôi đến được đây. Đó là một cuộc hành trình bắt đầu  từ 20 năm trước Bạn có thể nhớ đến ca khúc  \"We Are the World\" hay \"Do They Know It's Chrismas?\" của nhóm Band Aid trong đêm  âm nhạc Live Aid. Rock star tóc hoa râm cao kều Sir Bob Geldof, một người bạn của tôi, đã thách thức \"nuôi cả thế giới\". Đó là khoảng thời gian tuyệt vời, và đã hoàn toàn thay đổi cuộc sống của tôi. Hè năm đó, tôi đã cùng Ali, vợ tôi, tới Ethiopia. Chúng tôi đi bí mật để tự mình  thấy điều gì đang xảy ra. Chúng tôi sống ở đấy 1 tháng,  làm việc tại một trại trẻ mồ côi. Bọn trẻ đã đặt cho tôi một cái tên. Chúng gọi tôi là \"Cô gái có râu\". (Cười) Đừng hỏi gì nhé. Chúng tôi phát hiện ra châu Phi là một vùng đất nhiệm màu. Những bầu trời bao la, những trái tim  nhân hậu, vùng lục địa tươi sáng. Và cả những con người đẹp đẽ và giàu có. Ở đây, cho đi điều gì sẽ nhận  được nhiều hơn thế. Ethiopia không chỉ khiến tôi bùng nổ, nó còn mở mang đầu óc tôi. Vào ngày cuối cùng ở trại mồ côi, một người đàn ông trao cho tôi một đứa bé và nói, \"Ông có thể mang con tôi đi cùng được không?\" Ông ấy biết, ở Ireland, con ông ấy  sẽ sống, còn ở Ethiopia, thằng bé sẽ chết. Vì lúc đó là giữa nạn đói tồi tệ. Và, tôi đã khiến ông ấy thất vọng. Đó là một cảm giác đau đớn,  tôi đã khiến ông ấy thất vọng. Cảm giác ấy tôi không bao giờ quên. Và vào khoảnh khắc đó, cuộc hành trình của tôi bắt đầu. Lúc ấy, tôi trở thành một kẻ tồi tệ:\n",
      "(Laughter)\n",
      "trung error:[[[[[[[[[[[[[[[[[[[[[[]]]]]]]]]]]]]]]]]]]]]]\n",
      "=====================================================================\n",
      "382\n",
      "127\n",
      "2.0078740157480315\n",
      "v... Địa chính trị có rất nhiều điều phải học hỏi từ thế giới kĩ thuật số. Bạn vượt qua những chướng ngại tưởng chừng không thể phá vỡ nổi Và đây chính là điều tôi muốn chia sẻ  ngày hôm nay. Dù vậy, đầu tiên tôi nên giải thích  tại sao và bằng cách nào tôi đến được đây. Đó là một cuộc hành trình bắt đầu  từ 20 năm trước Bạn có thể nhớ đến ca khúc  \"We Are the World\" hay \"Do They Know It's Chrismas?\" của nhóm Band Aid trong đêm  âm nhạc Live Aid. Rock star tóc hoa râm cao kều Sir Bob Geldof, một người bạn của tôi, đã thách thức \"nuôi cả thế giới\". Đó là khoảng thời gian tuyệt vời, và đã hoàn toàn thay đổi cuộc sống của tôi. Hè năm đó, tôi đã cùng Ali, vợ tôi, tới Ethiopia. Chúng tôi đi bí mật để tự mình  thấy điều gì đang xảy ra. Chúng tôi sống ở đấy 1 tháng,  làm việc tại một trại trẻ mồ côi. Bọn trẻ đã đặt cho tôi một cái tên. Chúng gọi tôi là \"Cô gái có râu\". (Cười) Đừng hỏi gì nhé. Chúng tôi phát hiện ra châu Phi là một vùng đất nhiệm màu. Những bầu trời bao la, những trái tim  nhân hậu, vùng lục địa tươi sáng. Và cả những con người đẹp đẽ và giàu có. Ở đây, cho đi điều gì sẽ nhận  được nhiều hơn thế. Ethiopia không chỉ khiến tôi bùng nổ, nó còn mở mang đầu óc tôi. Vào ngày cuối cùng ở trại mồ côi, một người đàn ông trao cho tôi một đứa bé và nói, \"Ông có thể mang con tôi đi cùng được không?\" Ông ấy biết, ở Ireland, con ông ấy  sẽ sống, còn ở Ethiopia, thằng bé sẽ chết. Vì lúc đó là giữa nạn đói tồi tệ. Và, tôi đã khiến ông ấy thất vọng. Đó là một cảm giác đau đớn,  tôi đã khiến ông ấy thất vọng. Cảm giác ấy tôi không bao giờ quên. Và vào khoảnh khắc đó, cuộc hành trình của tôi bắt đầu. Lúc ấy, tôi trở thành một kẻ tồi tệ:\n",
      "Don't ask. Anyway, we found Africa to be a magical place. Big skies, big hearts, big, shining continent. Beautiful, royal people. Anybody who ever gave anything to Africa got a lot more back. Ethiopia didn't just blow my mind; it opened my mind. Anyway, on our last day at this orphanage a man handed me his baby and said, \"Would you take my son with you?\" He knew, in Ireland, that his son would live, and that in Ethiopia, his son would die. It was the middle of that awful famine. Well, I turned him down. And it was a funny kind of sick feeling, but I turned him down. And it's a feeling I can't ever quite forget. And in that moment, I started this journey.\n",
      "trung error:[[[[[[[[[[[[[[[[[[[[[[]]]]]]]]]]]]]]]]]]]]]]\n",
      "=====================================================================\n",
      "382\n",
      "138\n",
      "1.7681159420289856\n",
      ".. Địa chính trị có rất nhiều điều phải học hỏi từ thế giới kĩ thuật số. Bạn vượt qua những chướng ngại tưởng chừng không thể phá vỡ nổi Và đây chính là điều tôi muốn chia sẻ  ngày hôm nay. Dù vậy, đầu tiên tôi nên giải thích  tại sao và bằng cách nào tôi đến được đây. Đó là một cuộc hành trình bắt đầu  từ 20 năm trước Bạn có thể nhớ đến ca khúc  \"We Are the World\" hay \"Do They Know It's Chrismas?\" của nhóm Band Aid trong đêm  âm nhạc Live Aid. Rock star tóc hoa râm cao kều Sir Bob Geldof, một người bạn của tôi, đã thách thức \"nuôi cả thế giới\". Đó là khoảng thời gian tuyệt vời, và đã hoàn toàn thay đổi cuộc sống của tôi. Hè năm đó, tôi đã cùng Ali, vợ tôi, tới Ethiopia. Chúng tôi đi bí mật để tự mình  thấy điều gì đang xảy ra. Chúng tôi sống ở đấy 1 tháng,  làm việc tại một trại trẻ mồ côi. Bọn trẻ đã đặt cho tôi một cái tên. Chúng gọi tôi là \"Cô gái có râu\". (Cười) Đừng hỏi gì nhé. Chúng tôi phát hiện ra châu Phi là một vùng đất nhiệm màu. Những bầu trời bao la, những trái tim  nhân hậu, vùng lục địa tươi sáng. Và cả những con người đẹp đẽ và giàu có. Ở đây, cho đi điều gì sẽ nhận  được nhiều hơn thế. Ethiopia không chỉ khiến tôi bùng nổ, nó còn mở mang đầu óc tôi. Vào ngày cuối cùng ở trại mồ côi, một người đàn ông trao cho tôi một đứa bé và nói, \"Ông có thể mang con tôi đi cùng được không?\" Ông ấy biết, ở Ireland, con ông ấy  sẽ sống, còn ở Ethiopia, thằng bé sẽ chết. Vì lúc đó là giữa nạn đói tồi tệ. Và, tôi đã khiến ông ấy thất vọng. Đó là một cảm giác đau đớn,  tôi đã khiến ông ấy thất vọng. Cảm giác ấy tôi không bao giờ quên. Và vào khoảnh khắc đó, cuộc hành trình của tôi bắt đầu. Lúc ấy, tôi trở thành một kẻ tồi tệ:\n",
      "In that moment, I became the worst thing of all: I became a rock star with a cause. (Laughter) Except this isn't the cause, is it? Six-and-a-half thousand Africans dying every single day from AIDS — a preventable, treatable disease — for lack of drugs we can get in any pharmacy. That's not a cause. That's an emergency. 11 million AIDS orphans in Africa, 20 million by the end of the decade. That's not a cause. That's an emergency. Today, every day, 9,000 more Africans will catch HIV because of stigmatization and lack of education. That's not a cause. That's an emergency. So what we're talking about here is human rights. The right to live like a human. The right to live, period. And what we're facing in Africa is an unprecedented threat to human dignity and equality.\n",
      "trung error:[[[[[[[[[[[[[[[[[[[[[[]]]]]]]]]]]]]]]]]]]]]]\n",
      "=====================================================================\n",
      "vietnamese:  10\n",
      "english:  37\n"
     ]
    }
   ],
   "source": [
    "if(len(vi) == len(en)):\n",
    "    print('pro')\n",
    "    for i in range(len(en)):\n",
    "        print('ENGLISH (',len(en[i].split(' ')) , 'word ): ', en[i])\n",
    "        print()\n",
    "        print('VIETNAMESE (',len(vi[i].split(' ')) , 'word ): ', vi[i])\n",
    "        print('====================================================')\n",
    "else:\n",
    "    vi_new, en_new = flat_paragraph(vi, en)\n",
    "    print('vietnamese: ', len(vi_new))\n",
    "    print('english: ', len(en_new))"
   ]
  },
  {
   "cell_type": "code",
   "execution_count": 70,
   "id": "4745083a",
   "metadata": {},
   "outputs": [
    {
     "name": "stdout",
     "output_type": "stream",
     "text": [
      "ENGLISH ( 105 word ):  Well, as Alexander Graham Bell famously said on his first successful telephone call, \"Hello, is that Domino's Pizza?\" (Laughter) I just really want to thank you very much. As another famous man, Jerry Garcia, said, \"What a strange, long trip.\" And he should have said, \"What a strange, long trip it's about to become.\" At this very moment, you are viewing my upper half. My lower half is appearing at a different conference (Laughter) in a different country. You can, it turns out, be in two places at once. But still, I'm sorry I can't be with you in person. I'll explain at another time.\n",
      "\n",
      "VIETNAMESE ( 127 word ):  Như Alexander Graham Bell đã từng nói, khi ông chế tạo thành công chiếc điện thoại đầu tiên, \"Alo, có phải đây là Domino's Pizza  không?\" (Cười) Tôi muốn cảm ơn các bạn rất nhiều. Cũng như Jerry Garcia đã nói: \"Quả là một hành trình dài và kì lạ.\" Đáng lẽ ông ấy nên nói, \"Nó sắp trở thành  một hành trình dài và kì lạ \" Vào lúc này, các bạn đang thấy phần thân trên của tôi. Phần dưới thì đang ở một hội nghị khác (Cười) ở một đất nước khác. Hóa ra, bạn có thể ở hai nơi cùng lúc. Nhưng tôi vẫn xin lỗi các bạn  vì không thể có mặt trực tiếp. Tôi sẽ giải thích sau.\n",
      "====================================================\n",
      "ENGLISH ( 170 word ):  And though I'm a rock star, I just want to assure you that none of my wishes will include a hot tub. But what really turns me on about technology is not just the ability to get more songs on MP3 players. The revolution — this revolution — is much bigger than that. I hope, I believe. What turns me on about the digital age, what excites me personally, is that you have closed the gap between dreaming and doing. You see, it used to be that if you wanted to make a record of a song, you needed a studio and a producer. Now, you need a laptop. If you wanted to make a film, you needed a mass of equipment and a Hollywood budget. Now, you need a camera that fits in your palm, and a couple of bucks for a blank DVD. Imagination has been decoupled from the old constraints. And that really, really excites me. I'm excited when I glimpse that kind of thinking writ large.\n",
      "\n",
      "VIETNAMESE ( 199 word ):  Dù tôi là một ngôi sao nhạc rock, tôi khẳng định, không có mơ ước nào của tôi liên quan đến bồn nước nóng cả. Nhưng điều thật sự làm tôi  thích thú về công nghệ không chỉ là khả năng có được nhiều bài hát hơn trên MP3. Cuộc cách mạng này thực sự  vĩ đại hơn thế. Tôi hi vọng và tôi tin là vậy. Điều làm tôi thấy hứng thú về thời đại kỹ thuật số, khiến tôi phấn khích chính là việc chúng ta đã thu hẹp khoảng cách giữa mơ ước và hành động. Trước đây, nếu muốn thu âm một bài hát, bạn cần một phòng thu và một nhà sản xuất. Còn bây giờ, bạn chỉ cần một cái laptop. Hoặc nếu muốn làm phim, bạn cần vô vàn các thiết bị và ngân sách từ Hollywood. Ngày nay, bạn chỉ cần một chiếc máy quay vừa tay, và vài đô la để mua đĩa DVD trắng. Trí tưởng tượng đã được giải phóng khỏi những khuôn khổ cũ. Và điều đó thật sự làm tôi phấn khích. Tôi hứng thú khi gặp lối tư duy  hiển nhiên đó.\n",
      "====================================================\n",
      "ENGLISH ( 175 word ):  What I would like to see is idealism decoupled from all constraints. Political, economic, psychological, whatever. The geopolitical world has got a lot to learn from the digital world. From the ease with which you swept away obstacles that no one knew could even be budged. And that's actually what I'd like to talk about today. First, though, I should probably explain why, and how, I got to this place. It's a journey that started 20 years ago. You may remember that song, \"We Are the World,\" or, \"Do They Know It's Christmas?\" Band Aid, Live Aid. Another very tall, grizzled rock star, my friend Sir Bob Geldof, issued a challenge to \"feed the world.\" It was a great moment, and it utterly changed my life. That summer, my wife, Ali, and myself went to Ethiopia. We went on the quiet to see for ourselves what was going on. We lived in Ethiopia for a month, working at an orphanage. The children had a name for me. They called me, \"The girl with the beard.\"\n",
      "\n",
      "VIETNAMESE ( 16 word ):  Điều tôi muốn thấy là chủ nghĩa lý tưởng được giải phóng khỏi những khuôn khổ.\n",
      "====================================================\n",
      "ENGLISH ( 1 word ):  (Laughter)\n",
      "\n",
      "VIETNAMESE ( 9 word ):   Về chính trị, kinh tế, tâm lý, v.\n",
      "====================================================\n",
      "ENGLISH ( 127 word ):  Don't ask. Anyway, we found Africa to be a magical place. Big skies, big hearts, big, shining continent. Beautiful, royal people. Anybody who ever gave anything to Africa got a lot more back. Ethiopia didn't just blow my mind; it opened my mind. Anyway, on our last day at this orphanage a man handed me his baby and said, \"Would you take my son with you?\" He knew, in Ireland, that his son would live, and that in Ethiopia, his son would die. It was the middle of that awful famine. Well, I turned him down. And it was a funny kind of sick feeling, but I turned him down. And it's a feeling I can't ever quite forget. And in that moment, I started this journey.\n",
      "\n",
      "VIETNAMESE ( 1 word ):  v.\n",
      "====================================================\n",
      "ENGLISH ( 138 word ):  In that moment, I became the worst thing of all: I became a rock star with a cause. (Laughter) Except this isn't the cause, is it? Six-and-a-half thousand Africans dying every single day from AIDS — a preventable, treatable disease — for lack of drugs we can get in any pharmacy. That's not a cause. That's an emergency. 11 million AIDS orphans in Africa, 20 million by the end of the decade. That's not a cause. That's an emergency. Today, every day, 9,000 more Africans will catch HIV because of stigmatization and lack of education. That's not a cause. That's an emergency. So what we're talking about here is human rights. The right to live like a human. The right to live, period. And what we're facing in Africa is an unprecedented threat to human dignity and equality.\n",
      "\n",
      "VIETNAMESE ( 1 word ):  .\n",
      "====================================================\n",
      "ENGLISH ( 157 word ):  The next thing I'd like to be clear about is what this problem is, and what this problem isn't. Because this is not all about charity. This is about justice. Really. This is not about charity. This is about justice. That's right. And that's too bad, because we're very good at charity. Americans, like Irish people, are good at it. Even the poorest neighborhoods give more than they can afford. We like to give, and we give a lot. Look at the response to the tsunami — it's inspiring. But justice is a tougher standard than charity. You see, Africa makes a fool of our idea of justice. It makes a farce of our idea of equality. It mocks our pieties. It doubts our concern. It questions our commitment. Because there is no way we can look at what's happening in Africa, and if we're honest, conclude that it would ever be allowed to happen anywhere else.\n",
      "\n",
      "VIETNAMESE ( 382 word ):  . Địa chính trị có rất nhiều điều phải học hỏi từ thế giới kĩ thuật số. Bạn vượt qua những chướng ngại tưởng chừng không thể phá vỡ nổi Và đây chính là điều tôi muốn chia sẻ  ngày hôm nay. Dù vậy, đầu tiên tôi nên giải thích  tại sao và bằng cách nào tôi đến được đây. Đó là một cuộc hành trình bắt đầu  từ 20 năm trước Bạn có thể nhớ đến ca khúc  \"We Are the World\" hay \"Do They Know It's Chrismas?\" của nhóm Band Aid trong đêm  âm nhạc Live Aid. Rock star tóc hoa râm cao kều Sir Bob Geldof, một người bạn của tôi, đã thách thức \"nuôi cả thế giới\". Đó là khoảng thời gian tuyệt vời, và đã hoàn toàn thay đổi cuộc sống của tôi. Hè năm đó, tôi đã cùng Ali, vợ tôi, tới Ethiopia. Chúng tôi đi bí mật để tự mình  thấy điều gì đang xảy ra. Chúng tôi sống ở đấy 1 tháng,  làm việc tại một trại trẻ mồ côi. Bọn trẻ đã đặt cho tôi một cái tên. Chúng gọi tôi là \"Cô gái có râu\". (Cười) Đừng hỏi gì nhé. Chúng tôi phát hiện ra châu Phi là một vùng đất nhiệm màu. Những bầu trời bao la, những trái tim  nhân hậu, vùng lục địa tươi sáng. Và cả những con người đẹp đẽ và giàu có. Ở đây, cho đi điều gì sẽ nhận  được nhiều hơn thế. Ethiopia không chỉ khiến tôi bùng nổ, nó còn mở mang đầu óc tôi. Vào ngày cuối cùng ở trại mồ côi, một người đàn ông trao cho tôi một đứa bé và nói, \"Ông có thể mang con tôi đi cùng được không?\" Ông ấy biết, ở Ireland, con ông ấy  sẽ sống, còn ở Ethiopia, thằng bé sẽ chết. Vì lúc đó là giữa nạn đói tồi tệ. Và, tôi đã khiến ông ấy thất vọng. Đó là một cảm giác đau đớn,  tôi đã khiến ông ấy thất vọng. Cảm giác ấy tôi không bao giờ quên. Và vào khoảnh khắc đó, cuộc hành trình của tôi bắt đầu. Lúc ấy, tôi trở thành một kẻ tồi tệ:\n",
      "====================================================\n",
      "ENGLISH ( 100 word ):  As you heard in the film, anywhere else, not here. Not here, not in America, not in Europe. In fact, a head of state that you're all familiar with admitted this to me. And it's really true. There is no chance this kind of hemorrhaging of human life would be accepted anywhere else other than Africa. Africa is a continent in flames. And deep down, if we really accepted that Africans were equal to us, we would all do more to put the fire out. We're standing around with watering cans, when what we really need is the fire brigade.\n",
      "\n",
      "VIETNAMESE ( 559 word ):  Tôi trở thành ngôi sao nhạc rock  vì một lí do. (Cười) Trừ việc đó không phải lí do, phải không? Hơn 6500 người châu Phi đang chết dần từng ngày vì AIDS - một dịch bệnh có thể ngăn chặn và chữa trị - vì thiếu những loại thuốc mà chúng ta có thể tìm thấy ở bất kỳ hiệu thuốc nào. Đó không phải là nguyên nhân. Đó là sự báo động. 11 triệu trẻ mồ côi nhiễm AIDS ở châu Phi, 20 triệu tính đến cuối thập kỉ. Đó không phải là nguyên nhân. Đó là sự báo động. Hôm nay, và mỗi ngày, thêm 9000 người châu Phi sẽ nhiễm HIV vì sự kì thị và thiếu giáo dục. Đó không phải nguyên nhân. Đó là một mối đe dọa. Nên điều chúng ta đang nói đến chính là quyền con người. Quyền được sống như một con người. Quyền được sống có ý nghĩa. Và điều mà châu Phi đang phải đối mặt chính là mối đe dọa chưa từng có đối với nhân phẩm và sự bình đẳng của con người. Điều tiếp theo tôi muốn làm rõ chính là, vấn đề này là gì và không là gì. Vì nó không phải là vấn đề từ thiện. Nó thuộc về công lý.  Thật vậy. Nó không phải là vấn đề từ thiện. Nó thuộc về công lý. Đúng thế. Và thật tệ là, chúng ta lại rất giỏi trong việc làm từ thiện. Người Mỹ, người Ireland, rất giỏi việc đó. Ngay cả những vùng lân cận nghèo nhất  cũng đã cho đi nhiều hơn khả năng của họ. Chúng ta thích cho đi, và cho rất nhiều. Hãy nhìn vào cách chúng ta phản ứng với  sóng thần - thật đầy cảm hứng. Nhưng công lý lại là một tiêu chuẩn khó khăn hơn từ thiện. Có thể thấy, châu Phi đã làm cho ý tưởng về công lý của chúng ta thành kẻ ngốc. Nó biến những ý tưởng của chúng ta về bình đẳng thành trò hề. Nó chế nhạo lòng thành kính. Nó nghi ngờ những mối quan tâm. Nó chất vấn sự cam kết của chúng ta. Bởi vì chúng ta không có cách nào nhìn ra những gì đang xảy ra ở châu Phi, và thành thực hơn, kết luận được rằng nó không được phép xảy ra ở nơi nào khác - như bạn đã thấy trên phim - ở nơi nào khác không phải nơi đây. Không phải ở đây, không phải ở Mỹ hay châu Âu. Thật ra, một lãnh đạo bang  mà các bạn đều biết đã thừa nhận với tôi chuyện này.  Và nó đúng. Không ở đâu sự băng hoại  về sự sống của con người lại được chấp nhận dễ dàng như ở châu Phi Châu Phi là lục địa  đang chìm trong biển lửa. Và trong sâu thẳm, nếu thực sự coi  người châu Phi giống chúng ta thì ta nên làm nhiều hơn nữa  để dập tắt ngọn lửa đó. Chúng ta đang đứng ngoài với những chiếc bình tưới trong khi thứ chúng ta thực sự  cần là những đoàn cứu hỏa. Bạn thấy đó, nó không bi đát  như những cơn sóng thần.\n",
      "====================================================\n",
      "ENGLISH ( 170 word ):  You see, it's not as dramatic as the tsunami. It's crazy, really, when you think about it. Does stuff have to look like an action movie these days to exist in the front of our brain? The slow extinguishing of countless lives is just not dramatic enough, it would appear. Catastrophes that we can avert are not as interesting as ones we could avert. Funny, that. Anyway, I believe that that kind of thinking offends the intellectual rigor in this room. Six-and-a-half thousand people dying a day in Africa may be Africa's crisis, but the fact that it's not on the nightly news, that we in Europe, or you in America, are not treating it like an emergency — I want to argue with you tonight that that's our crisis. I want to argue that though Africa is not the front line in the war against terror, it could be soon. Every week, religious extremists take another African village. They're attempting to bring order to chaos. Well, why aren't we?\n",
      "\n",
      "VIETNAMESE ( 2470 word ):  Nó thật điên rồ khi bạn nghĩ về nó. Vấn đề này có nhất thiết phải giống  một bộ phim hành động hiện nay để có thể tồn tại trong trí nhớ  của chúng ta? Sự lụi tàn dần của bao nhiêu sự sống vẫn chưa đủ bi đát, nó sẽ xuất hiện. Chúng ta quan tâm đến những thảm họa   có thể ngăn chặn được trong quá khứ hơn là trong tương lai Hài hước thật. Dù sao, tôi cũng tin rằng suy nghĩ đó đang xúc phạm đến sự chặt chẽ của tư duy trong căn phòng này. 6500 người chết mỗi ngày ở châu Phi  có thể tạo ra một cuộc khủng hoàng ở đó, nhưng nó lại không nằm ở bản tin buổi tối mà chúng tôi ở châu Âu, hay bạn ở châu Mỹ, không xem nó như một sự nguy cấp. Tôi muốn cho các bạn thấy rằng đó là cuộc khủng hoảng của chúng ta. Rằng dù hiện tại, châu Phi không phải là  tiền tuyến trong trận chiến chống khủng bố nhưng nó sẽ sớm như vậy thôi. Mỗi tuần, những phần tử tôn giáo cực đoan lại chiếm một ngôi làng châu Phi. Chúng đang cố gây ra sự hỗn loạn. Vậy tại sao chúng ta không làm vậy? Đói nghèo sinh tuyệt vọng. Chúng ta biết. Tuyệt vọng sinh bạo lực. Chúng ta biết. Trong những lúc hỗn loạn, chẳng phải sẽ ít tốn kém hơn, khôn ngoan hơn nếu ta hóa thù thành bạn so với việc bảo vệ bản thân khỏi chúng về sau? \"Cuộc chiến chống khủng bố gắn liền với cuộc chiến chống đói nghèo\". Tôi không nói vậy, mà là Colin Powell. Và giờ đây, khi quân đội nói với chúng ta  đó là một cuộc chiến không thể giành thắng lợi  nếu chỉ dựa vào quân đội. có lẽ chúng ta nên lắng nghe. Có một cơ hội ở đây, và đó là sự thật. Nó không phải là thất bại. Cũng không phải là những ao ước. Những vấn đề của các nước đang phát triển cho chúng ta - những nước phát triển - cơ hội để tái khẳng định mình với thế giới. Chúng ta sẽ không chỉ thay đổi cuộc sống của người khác, mà còn thay đổi cách nhìn của họ về mình. Và có thể nó là khôn ngoan trong thời khắc đầy lo lắng và nguy hiểm này. Bạn có nghĩ rằng xét về cấp độ  thương mại đơn thuần, những liều thuốc kháng virus là những  quảng cáo lớn về sự chân thật và công nghệ  của phương Tây? Chẳng phải lòng trắc ẩn rất phù hợp với chúng ta sao? Hãy im lặng một chút. Một vài nơi trên thế giới, EU, Mỹ không tỏa sáng đúng như tiềm năng của nó. Những bảng hiệu đèn neon lấp lánh. Ai đó ném gạch qua cửa sổ. Các giám đốc chi nhánh khu vực đang hoang mang. Chưa bao giờ phương tây chúng ta lại được xem xét kĩ lưỡng như vậy. Chúng ta có giá trị của mình không? Chúng ta có được tin tưởng không? Những thứ này đang bị tấn công trên toàn thế giới. Các thương hiệu từ Mỹ tự đánh bóng mình. Tôi nói vậy với tư cách một người hâm mộ, một khách hàng. Nhưng hãy nghĩ về nó đi. Thêm nhiều loại thuốc kháng virus có vẻ có ý nghĩa. Nhưng đó chỉ là, hoặc nên là,  một phần rất dễ. Còn sự bình đẳng ở châu Phi - đó mới là một tư tưởng lớn và đắt giá. Mức độ thiệt hại đã làm tê liệt chúng ta trong sự thờ ơ. Vậy thì chúng ta có thể làm được gì trên  thế giới này? Nhiều hơn chúng ta tưởng. Chúng ta không thể giải quyết mọi  mọi khó khăn, nhưng với những gì có thể chúng ta phải hành động. Và bởi vì chúng ta có thể, nên chúng ta phải hành động. Đó là một sự thật hiển nhiên và không thể chối cãi. Đó không phải là lý thuyết. Thế hệ chúng ta là thế hệ đầu tiên có thể nhìn thấy bệnh tật và sự nghèo đói cùng cực ấy tận mắt, nhìn qua những đại dương đến châu Phi, để nói và khẳng định một điều: chúng ta không ủng hộ chúng. Cả lục địa bị hủy diệt - chúng ta không thể chấp nhận điều này. (Vỗ tay) Hãy để tôi nói điều này, không hề mỉa mai, trước khi tôi quay trở lại với phong cách hippy. Quên những năm 60 đi.  Chúng ta có thể thay đổi thế giới. Chỉ riêng tôi hay riêng bạn đều không  thể, nhưng cùng nhau chúng ta có thể. Tôi tin là như vậy, cũng như những  khán giả trong phòng này Hãy nhìn vào quỹ Gates Foundation. Họ đã làm những điều không tưởng. Nhưng cùng nhau, chúng ta hoàn toàn có thể thay đổi thế giới. Chúng ta có thể xoay chuyển những kết quả hiển nhiên và thay đổi cuộc sống của hàng triệu người những người sống và cảm nhận rất giống chúng ta, khi chúng ta gần họ. Tôi xin lỗi vì đã cười, nhưng các bạn trông thật khác so với những gì các bạn làm  ở Haight-Ashbury vào thập niên 60. (Cười) Nhưng tôi muốn chỉ rõ rằng đây là lúc mà các bạn được sắp đặt cho điều đó. Đây là sự đơm hoa từ những hạt giống  mà bạn đã gieo trồng ngày trước. Những ý tưởng được ấp ủ từ tuổi trẻ. Đó là điều khiến tôi hứng thú. Căn phòng này được tạo ra cho thời khắc này, chính là điều tôi muốn nói với các bạn tối nay. Phần lớn các bạn khi bắt đầu đều muốn thay đổi thế giới phải không? Phần lớn các bạn, thế giới kỹ thuật số, mong muốn vậy. Bây giờ, nhờ các bạn, việc thay đổi thế giới về mặt vật lý là hoàn toàn có thể. Đó là sự thật. Những nhà kinh tế đã khẳng định như vậy, và họ thì hiểu biết nhiều hơn tôi. Nếu vậy thì tại sao chúng ta không bắt tay vào hành động? Có lẽ là vì khi chúng ta thừa nhận rằng chúng ta có thể làm gì, thì chúng ta phải làm điều đó. Điều đó thật sự rất phiền phức. Hình thức kinh doanh bình đẳng này thật sự rất phiền phức. Nhưng lần đầu tiên trong lịch sử, chúng ta có công nghệ; chúng ta có kỹ năng, chúng ta có tiền; chúng ta có những thứ thuốc men có thể cứu sống con người. Nhưng chúng ta có ý chí không? Tôi hi vọng việc này là rõ ràng, nhưng tôi không theo phong cách hippy. Tôi không hợp với những cảm giác ấm áp, mơ hồ. Tôi không có những bông hoa trên tóc. Và thật ra tôi thuộc về punk rock. The Clash mang những đôi giày bộ đội  khổng lồ, không phải sandals. Nhưng tôi thấy sự khó nhọc  khi tôi nhìn thấy nó. Và với những bài phát biểu về tình yêu  và hòa bình ở West Coast, cần phải phát động  một cuộc vận động mạnh mẽ. Chủ nghĩa lý tưởng được tách ra khỏi  hành động chỉ là một giấc mơ. Nhưng nó là đồng minh của  chủ nghĩa thực dụng, thứ khiến chúng ta phải xắn tay và  hướng thế giới chệch đi đôi chút, đang vô cùng kích động.  Nó rất thực và rất mạnh mẽ. Nó xuất hiện trong đám đông như chúng ta. Năm ngoái tại DATA,  tổ chức mà tôi hỗ trợ thành lập, chúng tôi đã khởi động một chiến dịch nhằm kêu gọi tinh thần đó trong cuộc chiến chống AIDS  và sự nghèo khổ bần hàn. Chúng tôi đặt tên cho nó là ONE. Nó dựa trên niềm tin của chúng tôi rằng  hành động của một người có thể thay đổi nhiều điều, nhưng hành động của tất cả chúng ta có thể thay đổi cả thế giới. Chúng tôi cảm thấy rằng đây là lúc chứng minh rằng chúng tôi đã đúng. Lịch sử có những giai đoạn mà nền văn minh tái khẳng định chính mình. Và chúng tôi tin đây là lúc ấy. Đây là lúc mà thế giới  đi đến quyết định rằng những cuộc sống mất mát vô nghĩa ở  châu Phi là không thể chấp nhận được nữa. Đây là lúc chúng ta phải nghiêm túc về việc thay đổi tương lai của nhân loại trên trái đất này. Chúng ta đã tạo được đà. Dù có hơi tròng trành, nhưng nó đang được dựng nên. Năm nay là thử thách cho tất cả chúng ta, nhất là lãnh đạo các nước G8, những người đang đồng lòng, trong sự dõi theo của cả thế giới. Tôi thất vọng  với chính quyền tổng thống Bush. Họ đã nắm quyền với những hứa hẹn về châu Phi. Họ đã hứa rất nhiều điều tuyệt vời, và đã hoàn thành rất nhiều trong số đó. Nhưng có một số vẫn chưa được thực hiện. Họ không cảm nhận được sự thúc giục  từ tận gốc rễ, đó là sự thật. Nhưng sự thất vọng của tôi không chỉ dừng ở quan điểm cá nhân   khi tôi trò chuyện với người Mỹ, và cảm nhận sự lo lắng của họ  về sự thâm hụt, và tài chính Tôi hiểu điều đó. Nhưng có nhiều sự thúc ép từ gốc rễ hơn  chúng ta tưởng, nếu chúng ta được tổ chức. Điều tôi muốn truyền đạt, và bạn có thể  giúp tôi nếu bạn đồng ý, là cần một số tiền khổng lồ để  viện trợ cho châu Phi vào thời điểm mà nước Mỹ phải hành động. Đặt nó trong các điều khoản  dày đặc nhất có thể, thì sự đầu tư này có thể thu về  những khoản gấp bội. Không chỉ cứu sống nhiều mạng người, chúng ta còn nhận được sự thiện chí, ổn định và an toàn. Đó là điều tôi hi vọng chúng ta sẽ  thực hiện, nếu tôi thật dũng cảm, và nó sẽ không nằm ngoài những mong ước của tôi. (Cười) Điều tôi hi vọng vượt quá lòng từ bi của mọi người, rằng chúng ta sẽ kêu gọi những nhà chính khách từ châu Phi, nước Mỹ và cả thế giới hành động đúng đắn. Hãy cho phép họ, nếu chúng ta thích, sử dụng nguồn vốn về kinh tế, chính trị và ngân sách quốc gia  để cứu sống hàng triệu người. Đây thực sự là điều tôi muốn thực hiện. Bởi chúng ta cũng cần nguồn tri thức  của họ: những ý tưởng, kĩ năng và sự chân thật. Và chúng ta, tại hội nghị này,  chỉ đang ngồi tại vị trí duy nhất. Một vài công nghệ chúng ta đã nhắc tới, họ đã tạo ra chúng, hoặc chí ít là đã cách mạng hóa cái cách mà chúng được sử dụng. Chúng ta đã cùng nhau thay đổi hệ tư tưởng từ tín hiệu tương tự sang kỹ thuật số, và đẩy nó vượt xa những giới hạn. Và chúng ta muốn họ truyền  nguồn năng lượng này. Truyền cho chúng ta phần nào những giấc mơ và hành động. Như tôi đã nói, có hai thứ đã được nêu ra. Một là về lục địa châu Phi. Nhưng cũng là ý thức  của bản thân chúng ta. Mọi người đang bàn bạc để giải quyết nó. Những phong trào đang nổi lên. Những người nghệ sỹ, chính trị gia,  ngôi sao nhạc pop, linh mục, CEO, tổ chức phi chính phủ, hội phụ huynh, hội học sinh. Rất nhiều người đang cùng hoạt động trong một chiến dịch mà tôi đã đề cập : ONE. Tôi cho rằng họ chỉ có duy nhất  một ý tưởng trong đầu, là nơi mà bạn sinh sống không thể quyết định được rằng  liệu bạn có đang sống hay không. (Vỗ tay) Lịch sử, giống như Chúa, đang dõi theo  hành động của chúng ta. Khi những cuốn sử ký được viết ra, tôi nghĩ kỷ nguyên này sẽ được nhớ tới  bởi ba điều. Thật sự chỉ có ba điều. Cuộc cách mạng về kĩ thuật số, đúng vậy. Cuộc chiến chống khủng bố, phải. Và điều chúng ta đã làm hoặc không làm  để đưa châu Phi khỏi khủng hoảng. Một số người nói chúng ta không đủ khả năng. Tôi nói chúng ta hoàn toàn có thể. Cảm ơn mọi người rất nhiều. (Vỗ tay) Ba mong ước của tôi. Đầu tiên là TED tạo điều kiện  để trợ cấp. Bạn thấy đấy, nếu đó là sự thật, và tôi  tin điều đó, rằng thế giới kỹ thuật số mà chúng ta tạo ra đã vượt khỏi trí tưởng tượng đầy sáng tạo từ những  hạn chế vật lý của vật chất, hoàn toàn dễ dàng. (Cười) Tôi nên bổ sung rằng sự bắt đầu này  làm những điều ước tăng thêm. Có nhiều điều là không thể, không thực tế  và một vài điều trái với đạo đức. (Cười) Thương vụ này, đang trở nên hấp dẫn,  bạn hiểu ý tôi mà, khi một người khác đang thanh toán hóa đơn. Dù sao đi nữa, đây là số một. Tôi mong bạn sẽ góp phần xây dựng  phong trào xã hội của hơn một triệu nhà hoạt động Mỹ  vì châu Phi. Đó là ước muốn đầu tiên của tôi. Tôi hi vọng nó là có thể. Vài phút trước, tôi nói về các thành viên  của những chiến dịch đang được thực thi. Bạn biết đó, vẫn còn nhiều chiến dịch  khác nữa. Và với ONE như là chiếc ô che chở, tổ chức của tôi, DATA,  và những tổ chức khác, đang khai thác nguồn năng lượng và sự nhiệt tình ngoài kia từ Hollywood cho tới trung tâm  nước Mỹ. Chúng ta có thừa sức mạnh để tiếp sức  cho phong trào này. Chúng tôi cần sự giúp sức của bạn để thực hiện nó. Chúng tôi muốn tất cả mọi người dân Mỹ, từ nhà thờ, đoàn thể,\n",
      "====================================================\n",
      "ENGLISH ( 143 word ):  Poverty breeds despair. We know this. Despair breeds violence. We know this. In turbulent times, isn't it cheaper, and smarter, to make friends out of potential enemies than to defend yourself against them later? \"The war against terror is bound up in the war against poverty.\" And I didn't say that. Colin Powell said that. Now when the military are telling us that this is a war that cannot be won by military might alone, maybe we should listen. There's an opportunity here, and it's real. It's not spin. It's not wishful thinking. The problems facing the developing world afford us in the developed world a chance to re-describe ourselves to the world. We will not only transform other people's lives, but we will also transform the way those other lives see us. And that might be smart in these nervous, dangerous times.\n",
      "\n",
      "VIETNAMESE ( 943 word ):  Microsoft, Apple, Coke, Pepsi, hay cả những tên mọt sách,  những người ồn ào. Chúng ta không thể cứ lạnh lùng  và ngồi ngoài như thế được. Tôi tin nếu chúng ta thành lập một phong trào vững mạnh của một triệu người Mỹ, chúng ta sẽ không bị chối bỏ. Chúng ta sẽ sở hữu cái tai của Quốc hội. Chúng ta sẽ trang đầu trong cuốn  chỉ thị chiến thuật của Condi Rice, và có quyền vào nhà bầu dục. Nếu có một triệu người Mỹ - và tôi thực sự biết điều đó - sẵn sàng liên lạc, sẵn sàng kiểm tra email, tôi hoàn toàn chắc chắn rằng chúng ta  có thể thay đổi dòng lịch sử, theo nghĩa đen,  của lục địa Phi. Dù sao, tôi cần sự hỗ đỡ của bạn  để giúp nó được ghi tên. Tôi biết John Gate và Sun Microsystems đã sẵn sàng, nhưng chúng tôi muốn tuyên truyền  cho mọi người nhiều hơn. Điều ước thứ hai của tôi. Tôi muốn có một phương tiện truyền thông để hướng tới những con người đang sống với mức chi tiêu ít hơn một dollar một ngày trên toàn thế giới. Sẽ có hàng tỷ lượt truy cập. Có thể trên Google, AOL. Steve Case, Larry, Sergey - họ đã  làm rất nhiều. Có thể là trên NBC, ABC. Hiện nay chúng ta đang nói đến ABC  về giải Oscars. Chúng ta có những thước phim,  sản xuất bởi Jon Kamen tại Radical Media. Nhưng bạn biết đấy, chúng tôi cần một vài đường truyền cho những ý tưởng này. Chúng ta cần những phép toán, cần đưa  những số liệu thống kê đến người dân Mỹ. Tôi thực sự tin lộ trình cũ  của Truman, rằng nếu người Mỹ được biết sự thật, họ sẽ làm những điều đúng đắn. Và, điều quan trọng khác là đây không phải Sally Struthers. Nó phải được miêu tả như một  cuộc phiêu lưu, không phải một gánh nặng. Từng người một cùng tiến lên phía trước, một y tá, một nhà giáo, một người nội trợ, và cuộc sống được bảo vệ. Rắc rối nhiều vô kể. Cứ ba giây lại có một người chết. Ba giây nữa lại thêm một người. Tình hình này diễn ra vô cùng kinh hãi tại nhiều nơi ở châu Phi, châu Á, thậm chí là châu Mỹ, những nhóm viện trợ, như họ đã cứu giúp khi có sóng thần, đang hợp lại thành một, hành động  thống nhất. Chúng ta có thể đẩy lùi hoàn toàn sự nghèo khổ, thiếu ăn, AIDS. Nhưng chúng tôi cần được giúp đỡ. Thêm một người, một lá thư, một tiếng nói sẽ có tầm quan trọng với sự khác biệt giữa sự sống và cái chết của hàng triệu người. Hãy tham gia cùng chúng tôi. Người Mỹ có một cơ hội  chưa từng có trước đây. Chúng ta có thể tạo nên lịch sử. Chúng ta có thể biến nghèo khổ thành  dĩ vãng. Từng người một. Hãy ghé thăm ONE tại địa chỉ này. Chúng tôi không yêu cầu bạn phải quyên góp tiền. Chúng tôi muốn tiếng nói của bạn. Tốt rồi. Tôi mong TED sẽ thực sự  cho thấy được sức mạnh của thông tin, sức mạnh để định lại quy luật và thay đổi cuộc sống, bằng việc kết nối tất cả những bệnh viện,  phòng khám và trường học trong một quốc gia ở châu Phi. Và tôi hi vọng nó sẽ là Ethiopia. Tôi tin chúng ta có thể liên kết tất cả  trường học tại Ethiopia, tất cả những phòng khám, bệnh viện - chúng ta có thể kết nối Internet. Đây là mong ước thứ ba của tôi. Tôi nghĩ là khả thi. Tôi nghĩ chúng ta còn tài chính  và chất xám để thực hiện nó. Và điều ước thay đổi hoàn toàn tư duy này sẽ thành sự thật. Tôi đã từng đến Ethiopia, như tôi đã chia sẻ. Đó chính là nơi tôi bắt đầu. Ý tưởng rằng Internet, cái đã thay đổi  cuộc sống của tất cả chúng ta, có thể thay đổi một quốc gia -  và một lục địa đã rất khó đạt tới tín hiệu tương tự, chưa nói về kĩ thuật số - thổi bay tâm trí tôi. Nhưng nó đã không khởi đầu như vậy. Quãng đường dài đầu tiên từ Boston  đến New York được sử dụng vào năm 1885 trên điện thoại. Chỉ chín năm sau Addis Ababa được kết nối bằng điện thoại tới Harare, dài 500km. Từ đó, không có quá nhiều thứ thay đổi. Thời gian chờ trung bình để nhận một cuộc  điện thoại bàn tại Ethiopia là bảy hoặc tám năm. Nhưng công nghệ không dây đã không  được mong đợi sau đó. Dù sao, tôi là người Ireland,  như bạn thấy, tôi biết giao tiếp quan trọng nhường nào. Việc liên lạc rất quan trọng với Ethiopia  - sẽ thay đổi cả quốc gia. Y tá sẽ được đào tạo tốt hơn, dược sĩ có khả năng kê toa, bác sĩ vận dụng chuyên môn về các lĩnh vực y học. Đây là một ý tưởng cực kỳ tốt để  giữ liên lạc với họ. Và đó là điều ước thứ ba cũng là cuối cùng của tôi đến tất cả mọi người tại TED. Một lần nữa cảm ơn mọi người rất nhiều. (Vỗ tay)\n",
      "====================================================\n",
      "ENGLISH ( 136 word ):  Don't you think that on a purely commercial level, that anti-retroviral drugs are great advertisements for Western ingenuity and technology? Doesn't compassion look well on us? And let's cut the crap for a second. In certain quarters of the world, brand EU, brand USA, is not at its shiniest. The neon sign is fizzing and cracking. Someone's put a brick through the window. The regional branch managers are getting nervous. Never before have we in the west been so scrutinized. Our values: do we have any? Our credibility? These things are under attack around the world. Brand USA could use some polishing. And I say that as a fan, you know? As a person who buys the products. But think about it. More anti-retrovirals make sense. But that's just the easy part, or ought to be.\n",
      "\n"
     ]
    },
    {
     "ename": "IndexError",
     "evalue": "list index out of range",
     "output_type": "error",
     "traceback": [
      "\u001b[1;31m---------------------------------------------------------------------------\u001b[0m",
      "\u001b[1;31mIndexError\u001b[0m                                Traceback (most recent call last)",
      "\u001b[1;32m<ipython-input-70-66e2a4624cd5>\u001b[0m in \u001b[0;36m<module>\u001b[1;34m\u001b[0m\n\u001b[0;32m      2\u001b[0m     \u001b[0mprint\u001b[0m\u001b[1;33m(\u001b[0m\u001b[1;34m'ENGLISH ('\u001b[0m\u001b[1;33m,\u001b[0m\u001b[0mlen\u001b[0m\u001b[1;33m(\u001b[0m\u001b[0men_new\u001b[0m\u001b[1;33m[\u001b[0m\u001b[0mi\u001b[0m\u001b[1;33m]\u001b[0m\u001b[1;33m.\u001b[0m\u001b[0msplit\u001b[0m\u001b[1;33m(\u001b[0m\u001b[1;34m' '\u001b[0m\u001b[1;33m)\u001b[0m\u001b[1;33m)\u001b[0m \u001b[1;33m,\u001b[0m \u001b[1;34m'word ): '\u001b[0m\u001b[1;33m,\u001b[0m \u001b[0men_new\u001b[0m\u001b[1;33m[\u001b[0m\u001b[0mi\u001b[0m\u001b[1;33m]\u001b[0m\u001b[1;33m)\u001b[0m\u001b[1;33m\u001b[0m\u001b[1;33m\u001b[0m\u001b[0m\n\u001b[0;32m      3\u001b[0m     \u001b[0mprint\u001b[0m\u001b[1;33m(\u001b[0m\u001b[1;33m)\u001b[0m\u001b[1;33m\u001b[0m\u001b[1;33m\u001b[0m\u001b[0m\n\u001b[1;32m----> 4\u001b[1;33m     \u001b[0mprint\u001b[0m\u001b[1;33m(\u001b[0m\u001b[1;34m'VIETNAMESE ('\u001b[0m\u001b[1;33m,\u001b[0m\u001b[0mlen\u001b[0m\u001b[1;33m(\u001b[0m\u001b[0mvi_new\u001b[0m\u001b[1;33m[\u001b[0m\u001b[0mi\u001b[0m\u001b[1;33m]\u001b[0m\u001b[1;33m.\u001b[0m\u001b[0msplit\u001b[0m\u001b[1;33m(\u001b[0m\u001b[1;34m' '\u001b[0m\u001b[1;33m)\u001b[0m\u001b[1;33m)\u001b[0m \u001b[1;33m,\u001b[0m \u001b[1;34m'word ): '\u001b[0m\u001b[1;33m,\u001b[0m \u001b[0mvi_new\u001b[0m\u001b[1;33m[\u001b[0m\u001b[0mi\u001b[0m\u001b[1;33m]\u001b[0m\u001b[1;33m)\u001b[0m\u001b[1;33m\u001b[0m\u001b[1;33m\u001b[0m\u001b[0m\n\u001b[0m\u001b[0;32m      5\u001b[0m     \u001b[0mprint\u001b[0m\u001b[1;33m(\u001b[0m\u001b[1;34m'===================================================='\u001b[0m\u001b[1;33m)\u001b[0m\u001b[1;33m\u001b[0m\u001b[1;33m\u001b[0m\u001b[0m\n",
      "\u001b[1;31mIndexError\u001b[0m: list index out of range"
     ]
    }
   ],
   "source": [
    "for i in range(len(en_new)):\n",
    "    print('ENGLISH (',len(en_new[i].split(' ')) , 'word ): ', en_new[i])\n",
    "    print()\n",
    "    print('VIETNAMESE (',len(vi_new[i].split(' ')) , 'word ): ', vi_new[i])\n",
    "    print('====================================================')"
   ]
  },
  {
   "cell_type": "code",
   "execution_count": null,
   "id": "4689c767",
   "metadata": {},
   "outputs": [],
   "source": []
  },
  {
   "cell_type": "code",
   "execution_count": null,
   "id": "794dc3fb",
   "metadata": {},
   "outputs": [],
   "source": []
  }
 ],
 "metadata": {
  "kernelspec": {
   "display_name": "Python 3",
   "language": "python",
   "name": "python3"
  },
  "language_info": {
   "codemirror_mode": {
    "name": "ipython",
    "version": 3
   },
   "file_extension": ".py",
   "mimetype": "text/x-python",
   "name": "python",
   "nbconvert_exporter": "python",
   "pygments_lexer": "ipython3",
   "version": "3.8.8"
  }
 },
 "nbformat": 4,
 "nbformat_minor": 5
}
